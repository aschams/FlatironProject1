{
 "cells": [
  {
   "cell_type": "markdown",
   "metadata": {},
   "source": [
    "## Import necessary modules"
   ]
  },
  {
   "cell_type": "code",
   "execution_count": 1,
   "metadata": {},
   "outputs": [],
   "source": [
    "import pandas as pd\n",
    "import numpy as np\n",
    "import matplotlib.pyplot as plt\n",
    "import seaborn as sns\n",
    "%matplotlib inline"
   ]
  },
  {
   "cell_type": "markdown",
   "metadata": {},
   "source": [
    "### Import the data"
   ]
  },
  {
   "cell_type": "code",
   "execution_count": 2,
   "metadata": {},
   "outputs": [],
   "source": [
    "bom = pd.read_csv(\"data/bom.movie_gross.csv.gz\")\n",
    "imdb_names = pd.read_csv(\"data/imdb.name.basics.csv.gz\")\n",
    "# imdb_title_akas = pd.read_csv(\"data/imdb.title.akas.csv.gz\")\n",
    "imdb_title_basics = pd.read_csv(\"data/imdb.title.basics.csv.gz\")\n",
    "# imdb_title_princ = pd.read_csv(\"data/imdb.title.principals.csv.gz\")\n",
    "imdb_title_ratings = pd.read_csv(\"data/imdb.title.ratings.csv.gz\")\n",
    "tmdb = pd.read_csv(\"data/tmdb.movies.csv.gz\")\n",
    "rt_movie_info = pd.read_csv('data/rt.movie_info.tsv.gz', sep='\\t')\n",
    "rt_reviews = pd.read_csv(\"data/rt.reviews.tsv.gz\", sep='\\t', encoding='latin-1')\n",
    "tn_movie_budgets = pd.read_csv(\"data/tn.movie_budgets.csv.gz\", sep=',')"
   ]
  },
  {
   "cell_type": "code",
   "execution_count": 41,
   "metadata": {},
   "outputs": [],
   "source": [
    "inner_bom_tmdb = bom.merge(tmdb, left_on='title', right_on='title')"
   ]
  },
  {
   "cell_type": "code",
   "execution_count": 45,
   "metadata": {},
   "outputs": [],
   "source": [
    "imdb_title_basics = pd.read_csv(\"data/imdb.title.basics.csv.gz\")"
   ]
  },
  {
   "cell_type": "code",
   "execution_count": 23,
   "metadata": {},
   "outputs": [],
   "source": [
    "brad_pitt = imdb_names[imdb_names['primary_name'] == 'Brad Pitt'].copy()"
   ]
  },
  {
   "cell_type": "code",
   "execution_count": 24,
   "metadata": {},
   "outputs": [
    {
     "data": {
      "text/html": [
       "<div>\n",
       "<style scoped>\n",
       "    .dataframe tbody tr th:only-of-type {\n",
       "        vertical-align: middle;\n",
       "    }\n",
       "\n",
       "    .dataframe tbody tr th {\n",
       "        vertical-align: top;\n",
       "    }\n",
       "\n",
       "    .dataframe thead th {\n",
       "        text-align: right;\n",
       "    }\n",
       "</style>\n",
       "<table border=\"1\" class=\"dataframe\">\n",
       "  <thead>\n",
       "    <tr style=\"text-align: right;\">\n",
       "      <th></th>\n",
       "      <th>nconst</th>\n",
       "      <th>primary_name</th>\n",
       "      <th>birth_year</th>\n",
       "      <th>death_year</th>\n",
       "      <th>primary_profession</th>\n",
       "      <th>known_for_titles</th>\n",
       "    </tr>\n",
       "  </thead>\n",
       "  <tbody>\n",
       "    <tr>\n",
       "      <th>24026</th>\n",
       "      <td>nm0000093</td>\n",
       "      <td>Brad Pitt</td>\n",
       "      <td>1963.0</td>\n",
       "      <td>NaN</td>\n",
       "      <td>actor,producer,soundtrack</td>\n",
       "      <td>tt1210166,tt0114746,tt0356910,tt0816711</td>\n",
       "    </tr>\n",
       "  </tbody>\n",
       "</table>\n",
       "</div>"
      ],
      "text/plain": [
       "          nconst primary_name  birth_year  death_year  \\\n",
       "24026  nm0000093    Brad Pitt      1963.0         NaN   \n",
       "\n",
       "              primary_profession                         known_for_titles  \n",
       "24026  actor,producer,soundtrack  tt1210166,tt0114746,tt0356910,tt0816711  "
      ]
     },
     "execution_count": 24,
     "metadata": {},
     "output_type": "execute_result"
    }
   ],
   "source": [
    "brad_pitt"
   ]
  },
  {
   "cell_type": "code",
   "execution_count": 56,
   "metadata": {},
   "outputs": [],
   "source": [
    "brad_pitt[['movie_1', 'movie_2', 'movie_3', 'movie_4']] = brad_pitt.apply(lambda x: pd.Series(x['known_for_titles'].split(',')), axis=1)"
   ]
  },
  {
   "cell_type": "code",
   "execution_count": 55,
   "metadata": {},
   "outputs": [
    {
     "data": {
      "text/plain": [
       "24026  0    tt1210166\n",
       "       1    tt0114746\n",
       "       2    tt0356910\n",
       "       3    tt0816711\n",
       "dtype: object"
      ]
     },
     "execution_count": 55,
     "metadata": {},
     "output_type": "execute_result"
    }
   ],
   "source": [
    "brad_pitt.apply(lambda x: pd.Series(x['known_for_titles'].split(',')), axis=1).stack()"
   ]
  },
  {
   "cell_type": "code",
   "execution_count": 60,
   "metadata": {},
   "outputs": [],
   "source": [
    "brad_pitt_melt = brad_pitt.melt(id_vars='primary_name', value_vars=['movie_1', 'movie_2', 'movie_3', 'movie_4'])"
   ]
  },
  {
   "cell_type": "code",
   "execution_count": 61,
   "metadata": {},
   "outputs": [
    {
     "data": {
      "text/html": [
       "<div>\n",
       "<style scoped>\n",
       "    .dataframe tbody tr th:only-of-type {\n",
       "        vertical-align: middle;\n",
       "    }\n",
       "\n",
       "    .dataframe tbody tr th {\n",
       "        vertical-align: top;\n",
       "    }\n",
       "\n",
       "    .dataframe thead th {\n",
       "        text-align: right;\n",
       "    }\n",
       "</style>\n",
       "<table border=\"1\" class=\"dataframe\">\n",
       "  <thead>\n",
       "    <tr style=\"text-align: right;\">\n",
       "      <th></th>\n",
       "      <th>primary_name</th>\n",
       "      <th>variable</th>\n",
       "      <th>value</th>\n",
       "      <th>nconst</th>\n",
       "      <th>birth_year</th>\n",
       "      <th>death_year</th>\n",
       "      <th>primary_profession</th>\n",
       "      <th>known_for_titles</th>\n",
       "      <th>kft</th>\n",
       "      <th>movie_1</th>\n",
       "      <th>movie_2</th>\n",
       "      <th>movie_3</th>\n",
       "      <th>movie_4</th>\n",
       "    </tr>\n",
       "  </thead>\n",
       "  <tbody>\n",
       "    <tr>\n",
       "      <th>0</th>\n",
       "      <td>Brad Pitt</td>\n",
       "      <td>movie_1</td>\n",
       "      <td>tt1210166</td>\n",
       "      <td>nm0000093</td>\n",
       "      <td>1963.0</td>\n",
       "      <td>NaN</td>\n",
       "      <td>actor,producer,soundtrack</td>\n",
       "      <td>tt1210166,tt0114746,tt0356910,tt0816711</td>\n",
       "      <td>tt1210166</td>\n",
       "      <td>tt1210166</td>\n",
       "      <td>tt0114746</td>\n",
       "      <td>tt0356910</td>\n",
       "      <td>tt0816711</td>\n",
       "    </tr>\n",
       "    <tr>\n",
       "      <th>1</th>\n",
       "      <td>Brad Pitt</td>\n",
       "      <td>movie_2</td>\n",
       "      <td>tt0114746</td>\n",
       "      <td>nm0000093</td>\n",
       "      <td>1963.0</td>\n",
       "      <td>NaN</td>\n",
       "      <td>actor,producer,soundtrack</td>\n",
       "      <td>tt1210166,tt0114746,tt0356910,tt0816711</td>\n",
       "      <td>tt1210166</td>\n",
       "      <td>tt1210166</td>\n",
       "      <td>tt0114746</td>\n",
       "      <td>tt0356910</td>\n",
       "      <td>tt0816711</td>\n",
       "    </tr>\n",
       "    <tr>\n",
       "      <th>2</th>\n",
       "      <td>Brad Pitt</td>\n",
       "      <td>movie_3</td>\n",
       "      <td>tt0356910</td>\n",
       "      <td>nm0000093</td>\n",
       "      <td>1963.0</td>\n",
       "      <td>NaN</td>\n",
       "      <td>actor,producer,soundtrack</td>\n",
       "      <td>tt1210166,tt0114746,tt0356910,tt0816711</td>\n",
       "      <td>tt1210166</td>\n",
       "      <td>tt1210166</td>\n",
       "      <td>tt0114746</td>\n",
       "      <td>tt0356910</td>\n",
       "      <td>tt0816711</td>\n",
       "    </tr>\n",
       "    <tr>\n",
       "      <th>3</th>\n",
       "      <td>Brad Pitt</td>\n",
       "      <td>movie_4</td>\n",
       "      <td>tt0816711</td>\n",
       "      <td>nm0000093</td>\n",
       "      <td>1963.0</td>\n",
       "      <td>NaN</td>\n",
       "      <td>actor,producer,soundtrack</td>\n",
       "      <td>tt1210166,tt0114746,tt0356910,tt0816711</td>\n",
       "      <td>tt1210166</td>\n",
       "      <td>tt1210166</td>\n",
       "      <td>tt0114746</td>\n",
       "      <td>tt0356910</td>\n",
       "      <td>tt0816711</td>\n",
       "    </tr>\n",
       "  </tbody>\n",
       "</table>\n",
       "</div>"
      ],
      "text/plain": [
       "  primary_name variable      value     nconst  birth_year  death_year  \\\n",
       "0    Brad Pitt  movie_1  tt1210166  nm0000093      1963.0         NaN   \n",
       "1    Brad Pitt  movie_2  tt0114746  nm0000093      1963.0         NaN   \n",
       "2    Brad Pitt  movie_3  tt0356910  nm0000093      1963.0         NaN   \n",
       "3    Brad Pitt  movie_4  tt0816711  nm0000093      1963.0         NaN   \n",
       "\n",
       "          primary_profession                         known_for_titles  \\\n",
       "0  actor,producer,soundtrack  tt1210166,tt0114746,tt0356910,tt0816711   \n",
       "1  actor,producer,soundtrack  tt1210166,tt0114746,tt0356910,tt0816711   \n",
       "2  actor,producer,soundtrack  tt1210166,tt0114746,tt0356910,tt0816711   \n",
       "3  actor,producer,soundtrack  tt1210166,tt0114746,tt0356910,tt0816711   \n",
       "\n",
       "         kft    movie_1    movie_2    movie_3    movie_4  \n",
       "0  tt1210166  tt1210166  tt0114746  tt0356910  tt0816711  \n",
       "1  tt1210166  tt1210166  tt0114746  tt0356910  tt0816711  \n",
       "2  tt1210166  tt1210166  tt0114746  tt0356910  tt0816711  \n",
       "3  tt1210166  tt1210166  tt0114746  tt0356910  tt0816711  "
      ]
     },
     "execution_count": 61,
     "metadata": {},
     "output_type": "execute_result"
    }
   ],
   "source": [
    "brad_pitt_melt.merge(brad_pitt, left_on='primary_name', right_on='primary_name')"
   ]
  },
  {
   "cell_type": "code",
   "execution_count": 62,
   "metadata": {},
   "outputs": [
    {
     "data": {
      "text/html": [
       "<div>\n",
       "<style scoped>\n",
       "    .dataframe tbody tr th:only-of-type {\n",
       "        vertical-align: middle;\n",
       "    }\n",
       "\n",
       "    .dataframe tbody tr th {\n",
       "        vertical-align: top;\n",
       "    }\n",
       "\n",
       "    .dataframe thead th {\n",
       "        text-align: right;\n",
       "    }\n",
       "</style>\n",
       "<table border=\"1\" class=\"dataframe\">\n",
       "  <thead>\n",
       "    <tr style=\"text-align: right;\">\n",
       "      <th></th>\n",
       "      <th>primary_name</th>\n",
       "      <th>variable</th>\n",
       "      <th>value</th>\n",
       "    </tr>\n",
       "  </thead>\n",
       "  <tbody>\n",
       "    <tr>\n",
       "      <th>0</th>\n",
       "      <td>Brad Pitt</td>\n",
       "      <td>movie_1</td>\n",
       "      <td>tt1210166</td>\n",
       "    </tr>\n",
       "    <tr>\n",
       "      <th>1</th>\n",
       "      <td>Brad Pitt</td>\n",
       "      <td>movie_2</td>\n",
       "      <td>tt0114746</td>\n",
       "    </tr>\n",
       "    <tr>\n",
       "      <th>2</th>\n",
       "      <td>Brad Pitt</td>\n",
       "      <td>movie_3</td>\n",
       "      <td>tt0356910</td>\n",
       "    </tr>\n",
       "    <tr>\n",
       "      <th>3</th>\n",
       "      <td>Brad Pitt</td>\n",
       "      <td>movie_4</td>\n",
       "      <td>tt0816711</td>\n",
       "    </tr>\n",
       "  </tbody>\n",
       "</table>\n",
       "</div>"
      ],
      "text/plain": [
       "  primary_name variable      value\n",
       "0    Brad Pitt  movie_1  tt1210166\n",
       "1    Brad Pitt  movie_2  tt0114746\n",
       "2    Brad Pitt  movie_3  tt0356910\n",
       "3    Brad Pitt  movie_4  tt0816711"
      ]
     },
     "execution_count": 62,
     "metadata": {},
     "output_type": "execute_result"
    }
   ],
   "source": [
    "brad_pitt_melt"
   ]
  },
  {
   "cell_type": "code",
   "execution_count": 97,
   "metadata": {},
   "outputs": [],
   "source": [
    "imdb_head = imdb_title_basics.head().copy()"
   ]
  },
  {
   "cell_type": "code",
   "execution_count": 98,
   "metadata": {},
   "outputs": [],
   "source": [
    "imdb_head['genres_list'] = imdb_head.genres.str.split(',')"
   ]
  },
  {
   "cell_type": "code",
   "execution_count": 121,
   "metadata": {
    "scrolled": true
   },
   "outputs": [],
   "source": [
    "s = imdb_head.apply(lambda x: pd.Series(x['genres_list']), axis=1).stack().reset_index(level=1, drop=True)"
   ]
  },
  {
   "cell_type": "code",
   "execution_count": 125,
   "metadata": {},
   "outputs": [],
   "source": [
    "s.name = 'Genres'\n",
    "imdb_genres = imdb_head.join(s).copy()"
   ]
  },
  {
   "cell_type": "code",
   "execution_count": 133,
   "metadata": {},
   "outputs": [],
   "source": [
    "genres_dummies = pd.get_dummies(imdb_genres.Genres).sum(level=0)"
   ]
  },
  {
   "cell_type": "code",
   "execution_count": 136,
   "metadata": {},
   "outputs": [
    {
     "data": {
      "text/html": [
       "<div>\n",
       "<style scoped>\n",
       "    .dataframe tbody tr th:only-of-type {\n",
       "        vertical-align: middle;\n",
       "    }\n",
       "\n",
       "    .dataframe tbody tr th {\n",
       "        vertical-align: top;\n",
       "    }\n",
       "\n",
       "    .dataframe thead th {\n",
       "        text-align: right;\n",
       "    }\n",
       "</style>\n",
       "<table border=\"1\" class=\"dataframe\">\n",
       "  <thead>\n",
       "    <tr style=\"text-align: right;\">\n",
       "      <th></th>\n",
       "      <th>tconst</th>\n",
       "      <th>primary_title</th>\n",
       "      <th>original_title</th>\n",
       "      <th>start_year</th>\n",
       "      <th>runtime_minutes</th>\n",
       "      <th>Action</th>\n",
       "      <th>Biography</th>\n",
       "      <th>Comedy</th>\n",
       "      <th>Crime</th>\n",
       "      <th>Drama</th>\n",
       "      <th>Fantasy</th>\n",
       "    </tr>\n",
       "  </thead>\n",
       "  <tbody>\n",
       "    <tr>\n",
       "      <th>0</th>\n",
       "      <td>tt0063540</td>\n",
       "      <td>Sunghursh</td>\n",
       "      <td>Sunghursh</td>\n",
       "      <td>2013</td>\n",
       "      <td>175.0</td>\n",
       "      <td>1</td>\n",
       "      <td>0</td>\n",
       "      <td>0</td>\n",
       "      <td>1</td>\n",
       "      <td>1</td>\n",
       "      <td>0</td>\n",
       "    </tr>\n",
       "    <tr>\n",
       "      <th>1</th>\n",
       "      <td>tt0066787</td>\n",
       "      <td>One Day Before the Rainy Season</td>\n",
       "      <td>Ashad Ka Ek Din</td>\n",
       "      <td>2019</td>\n",
       "      <td>114.0</td>\n",
       "      <td>0</td>\n",
       "      <td>1</td>\n",
       "      <td>0</td>\n",
       "      <td>0</td>\n",
       "      <td>1</td>\n",
       "      <td>0</td>\n",
       "    </tr>\n",
       "    <tr>\n",
       "      <th>2</th>\n",
       "      <td>tt0069049</td>\n",
       "      <td>The Other Side of the Wind</td>\n",
       "      <td>The Other Side of the Wind</td>\n",
       "      <td>2018</td>\n",
       "      <td>122.0</td>\n",
       "      <td>0</td>\n",
       "      <td>0</td>\n",
       "      <td>0</td>\n",
       "      <td>0</td>\n",
       "      <td>1</td>\n",
       "      <td>0</td>\n",
       "    </tr>\n",
       "    <tr>\n",
       "      <th>3</th>\n",
       "      <td>tt0069204</td>\n",
       "      <td>Sabse Bada Sukh</td>\n",
       "      <td>Sabse Bada Sukh</td>\n",
       "      <td>2018</td>\n",
       "      <td>NaN</td>\n",
       "      <td>0</td>\n",
       "      <td>0</td>\n",
       "      <td>1</td>\n",
       "      <td>0</td>\n",
       "      <td>1</td>\n",
       "      <td>0</td>\n",
       "    </tr>\n",
       "    <tr>\n",
       "      <th>4</th>\n",
       "      <td>tt0100275</td>\n",
       "      <td>The Wandering Soap Opera</td>\n",
       "      <td>La Telenovela Errante</td>\n",
       "      <td>2017</td>\n",
       "      <td>80.0</td>\n",
       "      <td>0</td>\n",
       "      <td>0</td>\n",
       "      <td>1</td>\n",
       "      <td>0</td>\n",
       "      <td>1</td>\n",
       "      <td>1</td>\n",
       "    </tr>\n",
       "  </tbody>\n",
       "</table>\n",
       "</div>"
      ],
      "text/plain": [
       "      tconst                    primary_title              original_title  \\\n",
       "0  tt0063540                        Sunghursh                   Sunghursh   \n",
       "1  tt0066787  One Day Before the Rainy Season             Ashad Ka Ek Din   \n",
       "2  tt0069049       The Other Side of the Wind  The Other Side of the Wind   \n",
       "3  tt0069204                  Sabse Bada Sukh             Sabse Bada Sukh   \n",
       "4  tt0100275         The Wandering Soap Opera       La Telenovela Errante   \n",
       "\n",
       "   start_year  runtime_minutes  Action  Biography  Comedy  Crime  Drama  \\\n",
       "0        2013            175.0       1          0       0      1      1   \n",
       "1        2019            114.0       0          1       0      0      1   \n",
       "2        2018            122.0       0          0       0      0      1   \n",
       "3        2018              NaN       0          0       1      0      1   \n",
       "4        2017             80.0       0          0       1      0      1   \n",
       "\n",
       "   Fantasy  \n",
       "0        0  \n",
       "1        0  \n",
       "2        0  \n",
       "3        0  \n",
       "4        1  "
      ]
     },
     "execution_count": 136,
     "metadata": {},
     "output_type": "execute_result"
    }
   ],
   "source": [
    "imdb_head.join(genres_dummies).drop(['genres', 'genres_list'], axis=1)"
   ]
  },
  {
   "cell_type": "markdown",
   "metadata": {},
   "source": [
    "### One-Hot Encode Genres for Every Movie"
   ]
  },
  {
   "cell_type": "code",
   "execution_count": 140,
   "metadata": {},
   "outputs": [],
   "source": [
    "def OHE_genres(movie_list):\n",
    "    movie_list['genres_list'] = movie_list.genres.str.split(',')\n",
    "    s = movie_list.apply(lambda x: pd.Series(x['genres_list']), \n",
    "                                             axis=1).stack().reset_index(level=1, drop=True)\n",
    "    s.name = 'Genres'\n",
    "    imdb_genres = movie_list.join(s).copy()\n",
    "    genres_dummies = pd.get_dummies(imdb_genres.Genres).sum(level=0)\n",
    "    ml = movie_list.join(genres_dummies).drop(['genres', 'genres_list'], axis=1)\n",
    "    return ml"
   ]
  },
  {
   "cell_type": "code",
   "execution_count": 77,
   "metadata": {},
   "outputs": [],
   "source": [
    "inner_bom_imdb = bom.merge(imdb_title_basics, left_on='title', right_on='primary_title')"
   ]
  },
  {
   "cell_type": "code",
   "execution_count": 81,
   "metadata": {},
   "outputs": [],
   "source": [
    "inner_bom_imdb.set_index('tconst', inplace=True)"
   ]
  },
  {
   "cell_type": "code",
   "execution_count": 82,
   "metadata": {},
   "outputs": [
    {
     "data": {
      "text/html": [
       "<div>\n",
       "<style scoped>\n",
       "    .dataframe tbody tr th:only-of-type {\n",
       "        vertical-align: middle;\n",
       "    }\n",
       "\n",
       "    .dataframe tbody tr th {\n",
       "        vertical-align: top;\n",
       "    }\n",
       "\n",
       "    .dataframe thead th {\n",
       "        text-align: right;\n",
       "    }\n",
       "</style>\n",
       "<table border=\"1\" class=\"dataframe\">\n",
       "  <thead>\n",
       "    <tr style=\"text-align: right;\">\n",
       "      <th></th>\n",
       "      <th>title</th>\n",
       "      <th>studio</th>\n",
       "      <th>domestic_gross</th>\n",
       "      <th>foreign_gross</th>\n",
       "      <th>year</th>\n",
       "      <th>primary_title</th>\n",
       "      <th>original_title</th>\n",
       "      <th>start_year</th>\n",
       "      <th>runtime_minutes</th>\n",
       "      <th>genres</th>\n",
       "    </tr>\n",
       "    <tr>\n",
       "      <th>tconst</th>\n",
       "      <th></th>\n",
       "      <th></th>\n",
       "      <th></th>\n",
       "      <th></th>\n",
       "      <th></th>\n",
       "      <th></th>\n",
       "      <th></th>\n",
       "      <th></th>\n",
       "      <th></th>\n",
       "      <th></th>\n",
       "    </tr>\n",
       "  </thead>\n",
       "  <tbody>\n",
       "    <tr>\n",
       "      <th>tt0435761</th>\n",
       "      <td>Toy Story 3</td>\n",
       "      <td>BV</td>\n",
       "      <td>415000000.0</td>\n",
       "      <td>652000000</td>\n",
       "      <td>2010</td>\n",
       "      <td>Toy Story 3</td>\n",
       "      <td>Toy Story 3</td>\n",
       "      <td>2010</td>\n",
       "      <td>103.0</td>\n",
       "      <td>Adventure,Animation,Comedy</td>\n",
       "    </tr>\n",
       "    <tr>\n",
       "      <th>tt1375666</th>\n",
       "      <td>Inception</td>\n",
       "      <td>WB</td>\n",
       "      <td>292600000.0</td>\n",
       "      <td>535700000</td>\n",
       "      <td>2010</td>\n",
       "      <td>Inception</td>\n",
       "      <td>Inception</td>\n",
       "      <td>2010</td>\n",
       "      <td>148.0</td>\n",
       "      <td>Action,Adventure,Sci-Fi</td>\n",
       "    </tr>\n",
       "    <tr>\n",
       "      <th>tt0892791</th>\n",
       "      <td>Shrek Forever After</td>\n",
       "      <td>P/DW</td>\n",
       "      <td>238700000.0</td>\n",
       "      <td>513900000</td>\n",
       "      <td>2010</td>\n",
       "      <td>Shrek Forever After</td>\n",
       "      <td>Shrek Forever After</td>\n",
       "      <td>2010</td>\n",
       "      <td>93.0</td>\n",
       "      <td>Adventure,Animation,Comedy</td>\n",
       "    </tr>\n",
       "    <tr>\n",
       "      <th>tt1325004</th>\n",
       "      <td>The Twilight Saga: Eclipse</td>\n",
       "      <td>Sum.</td>\n",
       "      <td>300500000.0</td>\n",
       "      <td>398000000</td>\n",
       "      <td>2010</td>\n",
       "      <td>The Twilight Saga: Eclipse</td>\n",
       "      <td>The Twilight Saga: Eclipse</td>\n",
       "      <td>2010</td>\n",
       "      <td>124.0</td>\n",
       "      <td>Adventure,Drama,Fantasy</td>\n",
       "    </tr>\n",
       "    <tr>\n",
       "      <th>tt1228705</th>\n",
       "      <td>Iron Man 2</td>\n",
       "      <td>Par.</td>\n",
       "      <td>312400000.0</td>\n",
       "      <td>311500000</td>\n",
       "      <td>2010</td>\n",
       "      <td>Iron Man 2</td>\n",
       "      <td>Iron Man 2</td>\n",
       "      <td>2010</td>\n",
       "      <td>124.0</td>\n",
       "      <td>Action,Adventure,Sci-Fi</td>\n",
       "    </tr>\n",
       "  </tbody>\n",
       "</table>\n",
       "</div>"
      ],
      "text/plain": [
       "                                title studio  domestic_gross foreign_gross  \\\n",
       "tconst                                                                       \n",
       "tt0435761                 Toy Story 3     BV     415000000.0     652000000   \n",
       "tt1375666                   Inception     WB     292600000.0     535700000   \n",
       "tt0892791         Shrek Forever After   P/DW     238700000.0     513900000   \n",
       "tt1325004  The Twilight Saga: Eclipse   Sum.     300500000.0     398000000   \n",
       "tt1228705                  Iron Man 2   Par.     312400000.0     311500000   \n",
       "\n",
       "           year               primary_title              original_title  \\\n",
       "tconst                                                                    \n",
       "tt0435761  2010                 Toy Story 3                 Toy Story 3   \n",
       "tt1375666  2010                   Inception                   Inception   \n",
       "tt0892791  2010         Shrek Forever After         Shrek Forever After   \n",
       "tt1325004  2010  The Twilight Saga: Eclipse  The Twilight Saga: Eclipse   \n",
       "tt1228705  2010                  Iron Man 2                  Iron Man 2   \n",
       "\n",
       "           start_year  runtime_minutes                      genres  \n",
       "tconst                                                              \n",
       "tt0435761        2010            103.0  Adventure,Animation,Comedy  \n",
       "tt1375666        2010            148.0     Action,Adventure,Sci-Fi  \n",
       "tt0892791        2010             93.0  Adventure,Animation,Comedy  \n",
       "tt1325004        2010            124.0     Adventure,Drama,Fantasy  \n",
       "tt1228705        2010            124.0     Action,Adventure,Sci-Fi  "
      ]
     },
     "execution_count": 82,
     "metadata": {},
     "output_type": "execute_result"
    }
   ],
   "source": [
    "inner_bom_imdb.head()"
   ]
  },
  {
   "cell_type": "code",
   "execution_count": 142,
   "metadata": {},
   "outputs": [],
   "source": [
    "inner_bom_imdb = OHE_genres(inner_bom_imdb)"
   ]
  },
  {
   "cell_type": "code",
   "execution_count": 143,
   "metadata": {},
   "outputs": [
    {
     "data": {
      "text/plain": [
       "Index(['title', 'studio', 'domestic_gross', 'foreign_gross', 'year',\n",
       "       'primary_title', 'original_title', 'start_year', 'runtime_minutes',\n",
       "       'Action', 'Adventure', 'Animation', 'Biography', 'Comedy', 'Crime',\n",
       "       'Documentary', 'Drama', 'Family', 'Fantasy', 'History', 'Horror',\n",
       "       'Music', 'Musical', 'Mystery', 'News', 'Romance', 'Sci-Fi', 'Sport',\n",
       "       'Thriller', 'War', 'Western'],\n",
       "      dtype='object')"
      ]
     },
     "execution_count": 143,
     "metadata": {},
     "output_type": "execute_result"
    }
   ],
   "source": [
    "inner_bom_imdb.columns"
   ]
  },
  {
   "cell_type": "code",
   "execution_count": null,
   "metadata": {},
   "outputs": [],
   "source": []
  }
 ],
 "metadata": {
  "kernelspec": {
   "display_name": "Python 3",
   "language": "python",
   "name": "python3"
  },
  "language_info": {
   "codemirror_mode": {
    "name": "ipython",
    "version": 3
   },
   "file_extension": ".py",
   "mimetype": "text/x-python",
   "name": "python",
   "nbconvert_exporter": "python",
   "pygments_lexer": "ipython3",
   "version": "3.6.8"
  }
 },
 "nbformat": 4,
 "nbformat_minor": 2
}
