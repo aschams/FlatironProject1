{
 "cells": [
  {
   "cell_type": "markdown",
   "metadata": {},
   "source": [
    "## Import necessary modules"
   ]
  },
  {
   "cell_type": "code",
   "execution_count": 1,
   "metadata": {},
   "outputs": [],
   "source": [
    "import pandas as pd\n",
    "import numpy as np\n",
    "import matplotlib.pyplot as plt\n",
    "import seaborn as sns\n",
    "%matplotlib inline"
   ]
  },
  {
   "cell_type": "markdown",
   "metadata": {},
   "source": [
    "### Import the data"
   ]
  },
  {
   "cell_type": "code",
   "execution_count": 2,
   "metadata": {},
   "outputs": [],
   "source": [
    "bom = pd.read_csv(\"data/bom.movie_gross.csv.gz\")\n",
    "imdb_names = pd.read_csv(\"data/imdb.name.basics.csv.gz\")\n",
    "# imdb_title_akas = pd.read_csv(\"data/imdb.title.akas.csv.gz\")\n",
    "imdb_title_basics = pd.read_csv(\"data/imdb.title.basics.csv.gz\")\n",
    "# imdb_title_princ = pd.read_csv(\"data/imdb.title.principals.csv.gz\")\n",
    "imdb_title_ratings = pd.read_csv(\"data/imdb.title.ratings.csv.gz\")\n",
    "tmdb = pd.read_csv(\"data/tmdb.movies.csv.gz\")\n",
    "rt_movie_info = pd.read_csv('data/rt.movie_info.tsv.gz', sep='\\t')\n",
    "rt_reviews = pd.read_csv(\"data/rt.reviews.tsv.gz\", sep='\\t', encoding='latin-1')\n",
    "tn_movie_budgets = pd.read_csv(\"data/tn.movie_budgets.csv.gz\", sep=',')"
   ]
  },
  {
   "cell_type": "code",
   "execution_count": 41,
   "metadata": {},
   "outputs": [],
   "source": [
    "inner_bom_tmdb = bom.merge(tmdb, left_on='title', right_on='title')"
   ]
  },
  {
   "cell_type": "code",
   "execution_count": 45,
   "metadata": {},
   "outputs": [],
   "source": [
    "imdb_title_basics = pd.read_csv(\"data/imdb.title.basics.csv.gz\")"
   ]
  },
  {
   "cell_type": "code",
   "execution_count": 248,
   "metadata": {},
   "outputs": [],
   "source": [
    "brad_pitt = imdb_names[imdb_names['primary_name'] == 'Brad Pitt'].copy()\n",
    "brad_pitt2 = brad_pitt.copy()"
   ]
  },
  {
   "cell_type": "code",
   "execution_count": 249,
   "metadata": {},
   "outputs": [
    {
     "data": {
      "text/html": [
       "<div>\n",
       "<style scoped>\n",
       "    .dataframe tbody tr th:only-of-type {\n",
       "        vertical-align: middle;\n",
       "    }\n",
       "\n",
       "    .dataframe tbody tr th {\n",
       "        vertical-align: top;\n",
       "    }\n",
       "\n",
       "    .dataframe thead th {\n",
       "        text-align: right;\n",
       "    }\n",
       "</style>\n",
       "<table border=\"1\" class=\"dataframe\">\n",
       "  <thead>\n",
       "    <tr style=\"text-align: right;\">\n",
       "      <th></th>\n",
       "      <th>nconst</th>\n",
       "      <th>primary_name</th>\n",
       "      <th>birth_year</th>\n",
       "      <th>death_year</th>\n",
       "      <th>primary_profession</th>\n",
       "      <th>known_for_titles</th>\n",
       "    </tr>\n",
       "  </thead>\n",
       "  <tbody>\n",
       "    <tr>\n",
       "      <th>24026</th>\n",
       "      <td>nm0000093</td>\n",
       "      <td>Brad Pitt</td>\n",
       "      <td>1963.0</td>\n",
       "      <td>NaN</td>\n",
       "      <td>actor,producer,soundtrack</td>\n",
       "      <td>tt1210166,tt0114746,tt0356910,tt0816711</td>\n",
       "    </tr>\n",
       "  </tbody>\n",
       "</table>\n",
       "</div>"
      ],
      "text/plain": [
       "          nconst primary_name  birth_year  death_year  \\\n",
       "24026  nm0000093    Brad Pitt      1963.0         NaN   \n",
       "\n",
       "              primary_profession                         known_for_titles  \n",
       "24026  actor,producer,soundtrack  tt1210166,tt0114746,tt0356910,tt0816711  "
      ]
     },
     "execution_count": 249,
     "metadata": {},
     "output_type": "execute_result"
    }
   ],
   "source": [
    "brad_pitt"
   ]
  },
  {
   "cell_type": "code",
   "execution_count": 56,
   "metadata": {},
   "outputs": [],
   "source": [
    "brad_pitt[['movie_1', 'movie_2', 'movie_3', 'movie_4']] = brad_pitt.apply(lambda x: pd.Series(x['known_for_titles'].split(',')), axis=1)"
   ]
  },
  {
   "cell_type": "code",
   "execution_count": 55,
   "metadata": {},
   "outputs": [
    {
     "data": {
      "text/plain": [
       "24026  0    tt1210166\n",
       "       1    tt0114746\n",
       "       2    tt0356910\n",
       "       3    tt0816711\n",
       "dtype: object"
      ]
     },
     "execution_count": 55,
     "metadata": {},
     "output_type": "execute_result"
    }
   ],
   "source": [
    "brad_pitt.apply(lambda x: pd.Series(x['known_for_titles'].split(',')), axis=1).stack()"
   ]
  },
  {
   "cell_type": "code",
   "execution_count": 60,
   "metadata": {},
   "outputs": [],
   "source": [
    "brad_pitt_melt = brad_pitt.melt(id_vars='primary_name', value_vars=['movie_1', 'movie_2', 'movie_3', 'movie_4'])"
   ]
  },
  {
   "cell_type": "code",
   "execution_count": 61,
   "metadata": {},
   "outputs": [
    {
     "data": {
      "text/html": [
       "<div>\n",
       "<style scoped>\n",
       "    .dataframe tbody tr th:only-of-type {\n",
       "        vertical-align: middle;\n",
       "    }\n",
       "\n",
       "    .dataframe tbody tr th {\n",
       "        vertical-align: top;\n",
       "    }\n",
       "\n",
       "    .dataframe thead th {\n",
       "        text-align: right;\n",
       "    }\n",
       "</style>\n",
       "<table border=\"1\" class=\"dataframe\">\n",
       "  <thead>\n",
       "    <tr style=\"text-align: right;\">\n",
       "      <th></th>\n",
       "      <th>primary_name</th>\n",
       "      <th>variable</th>\n",
       "      <th>value</th>\n",
       "      <th>nconst</th>\n",
       "      <th>birth_year</th>\n",
       "      <th>death_year</th>\n",
       "      <th>primary_profession</th>\n",
       "      <th>known_for_titles</th>\n",
       "      <th>kft</th>\n",
       "      <th>movie_1</th>\n",
       "      <th>movie_2</th>\n",
       "      <th>movie_3</th>\n",
       "      <th>movie_4</th>\n",
       "    </tr>\n",
       "  </thead>\n",
       "  <tbody>\n",
       "    <tr>\n",
       "      <th>0</th>\n",
       "      <td>Brad Pitt</td>\n",
       "      <td>movie_1</td>\n",
       "      <td>tt1210166</td>\n",
       "      <td>nm0000093</td>\n",
       "      <td>1963.0</td>\n",
       "      <td>NaN</td>\n",
       "      <td>actor,producer,soundtrack</td>\n",
       "      <td>tt1210166,tt0114746,tt0356910,tt0816711</td>\n",
       "      <td>tt1210166</td>\n",
       "      <td>tt1210166</td>\n",
       "      <td>tt0114746</td>\n",
       "      <td>tt0356910</td>\n",
       "      <td>tt0816711</td>\n",
       "    </tr>\n",
       "    <tr>\n",
       "      <th>1</th>\n",
       "      <td>Brad Pitt</td>\n",
       "      <td>movie_2</td>\n",
       "      <td>tt0114746</td>\n",
       "      <td>nm0000093</td>\n",
       "      <td>1963.0</td>\n",
       "      <td>NaN</td>\n",
       "      <td>actor,producer,soundtrack</td>\n",
       "      <td>tt1210166,tt0114746,tt0356910,tt0816711</td>\n",
       "      <td>tt1210166</td>\n",
       "      <td>tt1210166</td>\n",
       "      <td>tt0114746</td>\n",
       "      <td>tt0356910</td>\n",
       "      <td>tt0816711</td>\n",
       "    </tr>\n",
       "    <tr>\n",
       "      <th>2</th>\n",
       "      <td>Brad Pitt</td>\n",
       "      <td>movie_3</td>\n",
       "      <td>tt0356910</td>\n",
       "      <td>nm0000093</td>\n",
       "      <td>1963.0</td>\n",
       "      <td>NaN</td>\n",
       "      <td>actor,producer,soundtrack</td>\n",
       "      <td>tt1210166,tt0114746,tt0356910,tt0816711</td>\n",
       "      <td>tt1210166</td>\n",
       "      <td>tt1210166</td>\n",
       "      <td>tt0114746</td>\n",
       "      <td>tt0356910</td>\n",
       "      <td>tt0816711</td>\n",
       "    </tr>\n",
       "    <tr>\n",
       "      <th>3</th>\n",
       "      <td>Brad Pitt</td>\n",
       "      <td>movie_4</td>\n",
       "      <td>tt0816711</td>\n",
       "      <td>nm0000093</td>\n",
       "      <td>1963.0</td>\n",
       "      <td>NaN</td>\n",
       "      <td>actor,producer,soundtrack</td>\n",
       "      <td>tt1210166,tt0114746,tt0356910,tt0816711</td>\n",
       "      <td>tt1210166</td>\n",
       "      <td>tt1210166</td>\n",
       "      <td>tt0114746</td>\n",
       "      <td>tt0356910</td>\n",
       "      <td>tt0816711</td>\n",
       "    </tr>\n",
       "  </tbody>\n",
       "</table>\n",
       "</div>"
      ],
      "text/plain": [
       "  primary_name variable      value     nconst  birth_year  death_year  \\\n",
       "0    Brad Pitt  movie_1  tt1210166  nm0000093      1963.0         NaN   \n",
       "1    Brad Pitt  movie_2  tt0114746  nm0000093      1963.0         NaN   \n",
       "2    Brad Pitt  movie_3  tt0356910  nm0000093      1963.0         NaN   \n",
       "3    Brad Pitt  movie_4  tt0816711  nm0000093      1963.0         NaN   \n",
       "\n",
       "          primary_profession                         known_for_titles  \\\n",
       "0  actor,producer,soundtrack  tt1210166,tt0114746,tt0356910,tt0816711   \n",
       "1  actor,producer,soundtrack  tt1210166,tt0114746,tt0356910,tt0816711   \n",
       "2  actor,producer,soundtrack  tt1210166,tt0114746,tt0356910,tt0816711   \n",
       "3  actor,producer,soundtrack  tt1210166,tt0114746,tt0356910,tt0816711   \n",
       "\n",
       "         kft    movie_1    movie_2    movie_3    movie_4  \n",
       "0  tt1210166  tt1210166  tt0114746  tt0356910  tt0816711  \n",
       "1  tt1210166  tt1210166  tt0114746  tt0356910  tt0816711  \n",
       "2  tt1210166  tt1210166  tt0114746  tt0356910  tt0816711  \n",
       "3  tt1210166  tt1210166  tt0114746  tt0356910  tt0816711  "
      ]
     },
     "execution_count": 61,
     "metadata": {},
     "output_type": "execute_result"
    }
   ],
   "source": [
    "brad_pitt_melt.merge(brad_pitt, left_on='primary_name', right_on='primary_name')"
   ]
  },
  {
   "cell_type": "code",
   "execution_count": 62,
   "metadata": {},
   "outputs": [
    {
     "data": {
      "text/html": [
       "<div>\n",
       "<style scoped>\n",
       "    .dataframe tbody tr th:only-of-type {\n",
       "        vertical-align: middle;\n",
       "    }\n",
       "\n",
       "    .dataframe tbody tr th {\n",
       "        vertical-align: top;\n",
       "    }\n",
       "\n",
       "    .dataframe thead th {\n",
       "        text-align: right;\n",
       "    }\n",
       "</style>\n",
       "<table border=\"1\" class=\"dataframe\">\n",
       "  <thead>\n",
       "    <tr style=\"text-align: right;\">\n",
       "      <th></th>\n",
       "      <th>primary_name</th>\n",
       "      <th>variable</th>\n",
       "      <th>value</th>\n",
       "    </tr>\n",
       "  </thead>\n",
       "  <tbody>\n",
       "    <tr>\n",
       "      <th>0</th>\n",
       "      <td>Brad Pitt</td>\n",
       "      <td>movie_1</td>\n",
       "      <td>tt1210166</td>\n",
       "    </tr>\n",
       "    <tr>\n",
       "      <th>1</th>\n",
       "      <td>Brad Pitt</td>\n",
       "      <td>movie_2</td>\n",
       "      <td>tt0114746</td>\n",
       "    </tr>\n",
       "    <tr>\n",
       "      <th>2</th>\n",
       "      <td>Brad Pitt</td>\n",
       "      <td>movie_3</td>\n",
       "      <td>tt0356910</td>\n",
       "    </tr>\n",
       "    <tr>\n",
       "      <th>3</th>\n",
       "      <td>Brad Pitt</td>\n",
       "      <td>movie_4</td>\n",
       "      <td>tt0816711</td>\n",
       "    </tr>\n",
       "  </tbody>\n",
       "</table>\n",
       "</div>"
      ],
      "text/plain": [
       "  primary_name variable      value\n",
       "0    Brad Pitt  movie_1  tt1210166\n",
       "1    Brad Pitt  movie_2  tt0114746\n",
       "2    Brad Pitt  movie_3  tt0356910\n",
       "3    Brad Pitt  movie_4  tt0816711"
      ]
     },
     "execution_count": 62,
     "metadata": {},
     "output_type": "execute_result"
    }
   ],
   "source": [
    "brad_pitt_melt"
   ]
  },
  {
   "cell_type": "code",
   "execution_count": 97,
   "metadata": {},
   "outputs": [],
   "source": [
    "imdb_head = imdb_title_basics.head().copy()"
   ]
  },
  {
   "cell_type": "code",
   "execution_count": 98,
   "metadata": {},
   "outputs": [],
   "source": [
    "imdb_head['genres_list'] = imdb_head.genres.str.split(',')"
   ]
  },
  {
   "cell_type": "code",
   "execution_count": 121,
   "metadata": {
    "scrolled": true
   },
   "outputs": [],
   "source": [
    "s = imdb_head.apply(lambda x: pd.Series(x['genres_list']), axis=1).stack().reset_index(level=1, drop=True)"
   ]
  },
  {
   "cell_type": "code",
   "execution_count": 125,
   "metadata": {},
   "outputs": [],
   "source": [
    "s.name = 'Genres'\n",
    "imdb_genres = imdb_head.join(s).copy()"
   ]
  },
  {
   "cell_type": "code",
   "execution_count": 133,
   "metadata": {},
   "outputs": [],
   "source": [
    "genres_dummies = pd.get_dummies(imdb_genres.Genres).sum(level=0)"
   ]
  },
  {
   "cell_type": "code",
   "execution_count": 136,
   "metadata": {},
   "outputs": [
    {
     "data": {
      "text/html": [
       "<div>\n",
       "<style scoped>\n",
       "    .dataframe tbody tr th:only-of-type {\n",
       "        vertical-align: middle;\n",
       "    }\n",
       "\n",
       "    .dataframe tbody tr th {\n",
       "        vertical-align: top;\n",
       "    }\n",
       "\n",
       "    .dataframe thead th {\n",
       "        text-align: right;\n",
       "    }\n",
       "</style>\n",
       "<table border=\"1\" class=\"dataframe\">\n",
       "  <thead>\n",
       "    <tr style=\"text-align: right;\">\n",
       "      <th></th>\n",
       "      <th>tconst</th>\n",
       "      <th>primary_title</th>\n",
       "      <th>original_title</th>\n",
       "      <th>start_year</th>\n",
       "      <th>runtime_minutes</th>\n",
       "      <th>Action</th>\n",
       "      <th>Biography</th>\n",
       "      <th>Comedy</th>\n",
       "      <th>Crime</th>\n",
       "      <th>Drama</th>\n",
       "      <th>Fantasy</th>\n",
       "    </tr>\n",
       "  </thead>\n",
       "  <tbody>\n",
       "    <tr>\n",
       "      <th>0</th>\n",
       "      <td>tt0063540</td>\n",
       "      <td>Sunghursh</td>\n",
       "      <td>Sunghursh</td>\n",
       "      <td>2013</td>\n",
       "      <td>175.0</td>\n",
       "      <td>1</td>\n",
       "      <td>0</td>\n",
       "      <td>0</td>\n",
       "      <td>1</td>\n",
       "      <td>1</td>\n",
       "      <td>0</td>\n",
       "    </tr>\n",
       "    <tr>\n",
       "      <th>1</th>\n",
       "      <td>tt0066787</td>\n",
       "      <td>One Day Before the Rainy Season</td>\n",
       "      <td>Ashad Ka Ek Din</td>\n",
       "      <td>2019</td>\n",
       "      <td>114.0</td>\n",
       "      <td>0</td>\n",
       "      <td>1</td>\n",
       "      <td>0</td>\n",
       "      <td>0</td>\n",
       "      <td>1</td>\n",
       "      <td>0</td>\n",
       "    </tr>\n",
       "    <tr>\n",
       "      <th>2</th>\n",
       "      <td>tt0069049</td>\n",
       "      <td>The Other Side of the Wind</td>\n",
       "      <td>The Other Side of the Wind</td>\n",
       "      <td>2018</td>\n",
       "      <td>122.0</td>\n",
       "      <td>0</td>\n",
       "      <td>0</td>\n",
       "      <td>0</td>\n",
       "      <td>0</td>\n",
       "      <td>1</td>\n",
       "      <td>0</td>\n",
       "    </tr>\n",
       "    <tr>\n",
       "      <th>3</th>\n",
       "      <td>tt0069204</td>\n",
       "      <td>Sabse Bada Sukh</td>\n",
       "      <td>Sabse Bada Sukh</td>\n",
       "      <td>2018</td>\n",
       "      <td>NaN</td>\n",
       "      <td>0</td>\n",
       "      <td>0</td>\n",
       "      <td>1</td>\n",
       "      <td>0</td>\n",
       "      <td>1</td>\n",
       "      <td>0</td>\n",
       "    </tr>\n",
       "    <tr>\n",
       "      <th>4</th>\n",
       "      <td>tt0100275</td>\n",
       "      <td>The Wandering Soap Opera</td>\n",
       "      <td>La Telenovela Errante</td>\n",
       "      <td>2017</td>\n",
       "      <td>80.0</td>\n",
       "      <td>0</td>\n",
       "      <td>0</td>\n",
       "      <td>1</td>\n",
       "      <td>0</td>\n",
       "      <td>1</td>\n",
       "      <td>1</td>\n",
       "    </tr>\n",
       "  </tbody>\n",
       "</table>\n",
       "</div>"
      ],
      "text/plain": [
       "      tconst                    primary_title              original_title  \\\n",
       "0  tt0063540                        Sunghursh                   Sunghursh   \n",
       "1  tt0066787  One Day Before the Rainy Season             Ashad Ka Ek Din   \n",
       "2  tt0069049       The Other Side of the Wind  The Other Side of the Wind   \n",
       "3  tt0069204                  Sabse Bada Sukh             Sabse Bada Sukh   \n",
       "4  tt0100275         The Wandering Soap Opera       La Telenovela Errante   \n",
       "\n",
       "   start_year  runtime_minutes  Action  Biography  Comedy  Crime  Drama  \\\n",
       "0        2013            175.0       1          0       0      1      1   \n",
       "1        2019            114.0       0          1       0      0      1   \n",
       "2        2018            122.0       0          0       0      0      1   \n",
       "3        2018              NaN       0          0       1      0      1   \n",
       "4        2017             80.0       0          0       1      0      1   \n",
       "\n",
       "   Fantasy  \n",
       "0        0  \n",
       "1        0  \n",
       "2        0  \n",
       "3        0  \n",
       "4        1  "
      ]
     },
     "execution_count": 136,
     "metadata": {},
     "output_type": "execute_result"
    }
   ],
   "source": [
    "imdb_head.join(genres_dummies).drop(['genres', 'genres_list'], axis=1)"
   ]
  },
  {
   "cell_type": "markdown",
   "metadata": {},
   "source": [
    "### One-Hot Encode Genres for Every Movie"
   ]
  },
  {
   "cell_type": "code",
   "execution_count": 140,
   "metadata": {},
   "outputs": [],
   "source": [
    "def OHE_genres(movie_list):\n",
    "    movie_list['genres_list'] = movie_list.genres.str.split(',')\n",
    "    s = movie_list.apply(lambda x: pd.Series(x['genres_list']), \n",
    "                                             axis=1).stack().reset_index(level=1, drop=True)\n",
    "    s.name = 'Genres'\n",
    "    imdb_genres = movie_list.join(s).copy()\n",
    "    genres_dummies = pd.get_dummies(imdb_genres.Genres).sum(level=0)\n",
    "    ml = movie_list.join(genres_dummies).drop(['genres', 'genres_list'], axis=1)\n",
    "    return ml"
   ]
  },
  {
   "cell_type": "code",
   "execution_count": 77,
   "metadata": {},
   "outputs": [],
   "source": [
    "inner_bom_imdb = bom.merge(imdb_title_basics, left_on='title', right_on='primary_title')"
   ]
  },
  {
   "cell_type": "code",
   "execution_count": 81,
   "metadata": {},
   "outputs": [],
   "source": [
    "inner_bom_imdb.set_index('tconst', inplace=True)"
   ]
  },
  {
   "cell_type": "code",
   "execution_count": 142,
   "metadata": {},
   "outputs": [],
   "source": [
    "inner_bom_imdb = OHE_genres(inner_bom_imdb)"
   ]
  },
  {
   "cell_type": "markdown",
   "metadata": {},
   "source": [
    "### Fixing Movie Gross Problems"
   ]
  },
  {
   "cell_type": "code",
   "execution_count": 151,
   "metadata": {},
   "outputs": [],
   "source": [
    "inner_bom_imdb.loc[inner_bom_imdb.foreign_gross == '1,019.4','foreign_gross'] = 1_019_440_000\n",
    "inner_bom_imdb.loc[inner_bom_imdb.foreign_gross == '1,010.0'] = 1_010_000_000\n",
    "inner_bom_imdb.loc[inner_bom_imdb.foreign_gross == '1,369.5','foreign_gross'] = 1_369_500_000\n",
    "inner_bom_imdb.loc[inner_bom_imdb.foreign_gross == '1,163.0','foreign_gross'] = 1_163_000_000"
   ]
  },
  {
   "cell_type": "code",
   "execution_count": 166,
   "metadata": {},
   "outputs": [],
   "source": [
    "inner_bom_imdb['total_gross'] = inner_bom_imdb['domestic_gross'] + inner_bom_imdb.foreign_gross.astype(float).fillna(0)"
   ]
  },
  {
   "cell_type": "code",
   "execution_count": null,
   "metadata": {},
   "outputs": [],
   "source": [
    "null_box_office = inner_bom_imdb[inner_bom_imdb.domestic_gross.isna()].index"
   ]
  },
  {
   "cell_type": "code",
   "execution_count": 177,
   "metadata": {},
   "outputs": [],
   "source": [
    "inner_bom_imdb = inner_bom_imdb.drop(null_box_office)"
   ]
  },
  {
   "cell_type": "markdown",
   "metadata": {},
   "source": [
    "### Making Each Movie in names a row"
   ]
  },
  {
   "cell_type": "code",
   "execution_count": 259,
   "metadata": {},
   "outputs": [],
   "source": [
    "names = imdb_names.copy()\n",
    "names2 = imdb_names.copy()"
   ]
  },
  {
   "cell_type": "code",
   "execution_count": 250,
   "metadata": {},
   "outputs": [],
   "source": [
    "brad_pitt['kft'] = brad_pitt.known_for_titles.str.split(',')\n",
    "s = brad_pitt.apply(lambda x: pd.Series(x['kft']), axis=1).stack().reset_index(level=1, drop=True)\n",
    "s.name = \"Known_Movies\"\n",
    "brad_pitt_movies = brad_pitt.join(s).drop(['nconst', 'birth_year',\n",
    "                                           'death_year', \n",
    "                                           'known_for_titles', 'kft', 'primary_profession'], axis=1)"
   ]
  },
  {
   "cell_type": "code",
   "execution_count": 260,
   "metadata": {},
   "outputs": [],
   "source": [
    "names['kft'] = names.known_for_titles.str.split(',')\n",
    "s = names.apply(lambda x: pd.Series(x['kft']), axis=1).stack().reset_index(level=1, drop=True)\n",
    "s.name = \"Known_Movies\"\n",
    "names_movies = names.join(s).drop(['nconst', 'birth_year',\n",
    "                                           'death_year', \n",
    "                                           'known_for_titles', 'kft', 'primary_profession'], axis=1)"
   ]
  },
  {
   "cell_type": "code",
   "execution_count": 268,
   "metadata": {},
   "outputs": [],
   "source": [
    "names_movies.set_index('Known_Movies', inplace=True)"
   ]
  },
  {
   "cell_type": "code",
   "execution_count": 256,
   "metadata": {},
   "outputs": [],
   "source": [
    "brad_pitt2['profs'] = brad_pitt2.primary_profession.str.split(',')\n",
    "s = brad_pitt2.apply(lambda x: pd.Series(x['profs']), \n",
    "                                         axis=1).stack().reset_index(level=1, drop=True)\n",
    "s.name = 'Professions'\n",
    "brad_pitt_profs = brad_pitt2.join(s).copy()\n",
    "profs_dummies = pd.get_dummies(brad_pitt_profs.Professions).sum(level=0)\n",
    "brad_pitt_profs = brad_pitt_profs.join(profs_dummies)\n",
    "brad_pitt_profs.drop(['nconst', 'birth_year', 'death_year', 'known_for_titles',\n",
    "                      'primary_profession', 'Professions', 'profs'], axis=1, inplace=True)\n",
    "brad_pitt_profs.drop_duplicates(inplace=True)"
   ]
  },
  {
   "cell_type": "code",
   "execution_count": 261,
   "metadata": {},
   "outputs": [],
   "source": [
    "names2['profs'] = names2.primary_profession.str.split(',')\n",
    "s = names2.apply(lambda x: pd.Series(x['profs']), \n",
    "                                         axis=1).stack().reset_index(level=1, drop=True)\n",
    "s.name = 'Professions'\n",
    "names_profs = names2.join(s).copy()\n",
    "profs_dummies = pd.get_dummies(names_profs.Professions).sum(level=0)\n",
    "names_profs = names_profs.join(profs_dummies)\n",
    "names_profs.drop(['nconst', 'birth_year', 'death_year', 'known_for_titles',\n",
    "                      'primary_profession', 'Professions', 'profs'], axis=1, inplace=True)\n",
    "names_profs.drop_duplicates(inplace=True)"
   ]
  },
  {
   "cell_type": "code",
   "execution_count": 264,
   "metadata": {},
   "outputs": [
    {
     "data": {
      "text/plain": [
       "(602373, 38)"
      ]
     },
     "execution_count": 264,
     "metadata": {},
     "output_type": "execute_result"
    }
   ],
   "source": [
    "names_profs.shape"
   ]
  },
  {
   "cell_type": "code",
   "execution_count": 257,
   "metadata": {},
   "outputs": [
    {
     "data": {
      "text/html": [
       "<div>\n",
       "<style scoped>\n",
       "    .dataframe tbody tr th:only-of-type {\n",
       "        vertical-align: middle;\n",
       "    }\n",
       "\n",
       "    .dataframe tbody tr th {\n",
       "        vertical-align: top;\n",
       "    }\n",
       "\n",
       "    .dataframe thead th {\n",
       "        text-align: right;\n",
       "    }\n",
       "</style>\n",
       "<table border=\"1\" class=\"dataframe\">\n",
       "  <thead>\n",
       "    <tr style=\"text-align: right;\">\n",
       "      <th></th>\n",
       "      <th>primary_name</th>\n",
       "      <th>actor</th>\n",
       "      <th>producer</th>\n",
       "      <th>soundtrack</th>\n",
       "    </tr>\n",
       "  </thead>\n",
       "  <tbody>\n",
       "    <tr>\n",
       "      <th>24026</th>\n",
       "      <td>Brad Pitt</td>\n",
       "      <td>1</td>\n",
       "      <td>1</td>\n",
       "      <td>1</td>\n",
       "    </tr>\n",
       "  </tbody>\n",
       "</table>\n",
       "</div>"
      ],
      "text/plain": [
       "      primary_name  actor  producer  soundtrack\n",
       "24026    Brad Pitt      1         1           1"
      ]
     },
     "execution_count": 257,
     "metadata": {},
     "output_type": "execute_result"
    }
   ],
   "source": [
    "brad_pitt_profs"
   ]
  },
  {
   "cell_type": "markdown",
   "metadata": {},
   "source": [
    "### Merge People and Movies Dataframe"
   ]
  },
  {
   "cell_type": "code",
   "execution_count": 266,
   "metadata": {},
   "outputs": [],
   "source": [
    "imdb_title_basics.set_index('tconst', inplace=True)"
   ]
  },
  {
   "cell_type": "code",
   "execution_count": 272,
   "metadata": {},
   "outputs": [],
   "source": [
    "titles_people_merge = inner_bom_imdb.merge(names_movies, left_index=True, right_index=True )"
   ]
  },
  {
   "cell_type": "code",
   "execution_count": 274,
   "metadata": {},
   "outputs": [
    {
     "data": {
      "text/plain": [
       "(60388, 33)"
      ]
     },
     "execution_count": 274,
     "metadata": {},
     "output_type": "execute_result"
    }
   ],
   "source": [
    "titles_people_merge.shape"
   ]
  },
  {
   "cell_type": "code",
   "execution_count": 276,
   "metadata": {},
   "outputs": [],
   "source": [
    "titles_people_profs_merge = titles_people_merge.merge(names_profs, left_on='primary_name', right_on='primary_name')"
   ]
  },
  {
   "cell_type": "code",
   "execution_count": 277,
   "metadata": {},
   "outputs": [
    {
     "data": {
      "text/plain": [
       "(67362, 70)"
      ]
     },
     "execution_count": 277,
     "metadata": {},
     "output_type": "execute_result"
    }
   ],
   "source": [
    "titles_people_profs_merge.shape"
   ]
  },
  {
   "cell_type": "code",
   "execution_count": 280,
   "metadata": {},
   "outputs": [
    {
     "data": {
      "text/html": [
       "<div>\n",
       "<style scoped>\n",
       "    .dataframe tbody tr th:only-of-type {\n",
       "        vertical-align: middle;\n",
       "    }\n",
       "\n",
       "    .dataframe tbody tr th {\n",
       "        vertical-align: top;\n",
       "    }\n",
       "\n",
       "    .dataframe thead th {\n",
       "        text-align: right;\n",
       "    }\n",
       "</style>\n",
       "<table border=\"1\" class=\"dataframe\">\n",
       "  <thead>\n",
       "    <tr style=\"text-align: right;\">\n",
       "      <th></th>\n",
       "      <th>title</th>\n",
       "      <th>studio</th>\n",
       "      <th>domestic_gross</th>\n",
       "      <th>foreign_gross</th>\n",
       "      <th>year</th>\n",
       "      <th>primary_title</th>\n",
       "      <th>original_title</th>\n",
       "      <th>start_year</th>\n",
       "      <th>runtime_minutes</th>\n",
       "      <th>Action</th>\n",
       "      <th>...</th>\n",
       "      <th>publicist</th>\n",
       "      <th>set_decorator</th>\n",
       "      <th>sound_department</th>\n",
       "      <th>soundtrack</th>\n",
       "      <th>special_effects</th>\n",
       "      <th>stunts</th>\n",
       "      <th>talent_agent</th>\n",
       "      <th>transportation_department</th>\n",
       "      <th>visual_effects</th>\n",
       "      <th>writer</th>\n",
       "    </tr>\n",
       "  </thead>\n",
       "  <tbody>\n",
       "    <tr>\n",
       "      <th>0</th>\n",
       "      <td>Wazir</td>\n",
       "      <td>Relbig.</td>\n",
       "      <td>1100000.0</td>\n",
       "      <td>NaN</td>\n",
       "      <td>2016</td>\n",
       "      <td>Wazir</td>\n",
       "      <td>Wazir</td>\n",
       "      <td>2016</td>\n",
       "      <td>103.0</td>\n",
       "      <td>1</td>\n",
       "      <td>...</td>\n",
       "      <td>0</td>\n",
       "      <td>0</td>\n",
       "      <td>0</td>\n",
       "      <td>0</td>\n",
       "      <td>0</td>\n",
       "      <td>0</td>\n",
       "      <td>0</td>\n",
       "      <td>0</td>\n",
       "      <td>0</td>\n",
       "      <td>0</td>\n",
       "    </tr>\n",
       "    <tr>\n",
       "      <th>1</th>\n",
       "      <td>Wazir</td>\n",
       "      <td>Relbig.</td>\n",
       "      <td>1100000.0</td>\n",
       "      <td>NaN</td>\n",
       "      <td>2016</td>\n",
       "      <td>Wazir</td>\n",
       "      <td>Wazir</td>\n",
       "      <td>2016</td>\n",
       "      <td>103.0</td>\n",
       "      <td>1</td>\n",
       "      <td>...</td>\n",
       "      <td>0</td>\n",
       "      <td>0</td>\n",
       "      <td>0</td>\n",
       "      <td>0</td>\n",
       "      <td>0</td>\n",
       "      <td>0</td>\n",
       "      <td>0</td>\n",
       "      <td>0</td>\n",
       "      <td>0</td>\n",
       "      <td>0</td>\n",
       "    </tr>\n",
       "    <tr>\n",
       "      <th>2</th>\n",
       "      <td>Wazir</td>\n",
       "      <td>Relbig.</td>\n",
       "      <td>1100000.0</td>\n",
       "      <td>NaN</td>\n",
       "      <td>2016</td>\n",
       "      <td>Wazir</td>\n",
       "      <td>Wazir</td>\n",
       "      <td>2016</td>\n",
       "      <td>103.0</td>\n",
       "      <td>1</td>\n",
       "      <td>...</td>\n",
       "      <td>0</td>\n",
       "      <td>0</td>\n",
       "      <td>0</td>\n",
       "      <td>0</td>\n",
       "      <td>0</td>\n",
       "      <td>0</td>\n",
       "      <td>0</td>\n",
       "      <td>0</td>\n",
       "      <td>0</td>\n",
       "      <td>0</td>\n",
       "    </tr>\n",
       "    <tr>\n",
       "      <th>3</th>\n",
       "      <td>Wazir</td>\n",
       "      <td>Relbig.</td>\n",
       "      <td>1100000.0</td>\n",
       "      <td>NaN</td>\n",
       "      <td>2016</td>\n",
       "      <td>Wazir</td>\n",
       "      <td>Wazir</td>\n",
       "      <td>2016</td>\n",
       "      <td>103.0</td>\n",
       "      <td>1</td>\n",
       "      <td>...</td>\n",
       "      <td>0</td>\n",
       "      <td>0</td>\n",
       "      <td>0</td>\n",
       "      <td>0</td>\n",
       "      <td>0</td>\n",
       "      <td>0</td>\n",
       "      <td>0</td>\n",
       "      <td>0</td>\n",
       "      <td>0</td>\n",
       "      <td>0</td>\n",
       "    </tr>\n",
       "    <tr>\n",
       "      <th>4</th>\n",
       "      <td>Wazir</td>\n",
       "      <td>Relbig.</td>\n",
       "      <td>1100000.0</td>\n",
       "      <td>NaN</td>\n",
       "      <td>2016</td>\n",
       "      <td>Wazir</td>\n",
       "      <td>Wazir</td>\n",
       "      <td>2016</td>\n",
       "      <td>103.0</td>\n",
       "      <td>1</td>\n",
       "      <td>...</td>\n",
       "      <td>0</td>\n",
       "      <td>0</td>\n",
       "      <td>0</td>\n",
       "      <td>0</td>\n",
       "      <td>0</td>\n",
       "      <td>0</td>\n",
       "      <td>0</td>\n",
       "      <td>0</td>\n",
       "      <td>0</td>\n",
       "      <td>0</td>\n",
       "    </tr>\n",
       "  </tbody>\n",
       "</table>\n",
       "<p>5 rows × 70 columns</p>\n",
       "</div>"
      ],
      "text/plain": [
       "   title   studio  domestic_gross foreign_gross  year primary_title  \\\n",
       "0  Wazir  Relbig.       1100000.0           NaN  2016         Wazir   \n",
       "1  Wazir  Relbig.       1100000.0           NaN  2016         Wazir   \n",
       "2  Wazir  Relbig.       1100000.0           NaN  2016         Wazir   \n",
       "3  Wazir  Relbig.       1100000.0           NaN  2016         Wazir   \n",
       "4  Wazir  Relbig.       1100000.0           NaN  2016         Wazir   \n",
       "\n",
       "  original_title  start_year  runtime_minutes  Action   ...    publicist  \\\n",
       "0          Wazir        2016            103.0       1   ...            0   \n",
       "1          Wazir        2016            103.0       1   ...            0   \n",
       "2          Wazir        2016            103.0       1   ...            0   \n",
       "3          Wazir        2016            103.0       1   ...            0   \n",
       "4          Wazir        2016            103.0       1   ...            0   \n",
       "\n",
       "   set_decorator  sound_department  soundtrack  special_effects  stunts  \\\n",
       "0              0                 0           0                0       0   \n",
       "1              0                 0           0                0       0   \n",
       "2              0                 0           0                0       0   \n",
       "3              0                 0           0                0       0   \n",
       "4              0                 0           0                0       0   \n",
       "\n",
       "   talent_agent  transportation_department  visual_effects  writer  \n",
       "0             0                          0               0       0  \n",
       "1             0                          0               0       0  \n",
       "2             0                          0               0       0  \n",
       "3             0                          0               0       0  \n",
       "4             0                          0               0       0  \n",
       "\n",
       "[5 rows x 70 columns]"
      ]
     },
     "execution_count": 280,
     "metadata": {},
     "output_type": "execute_result"
    }
   ],
   "source": [
    "titles_people_profs_merge.head()"
   ]
  },
  {
   "cell_type": "code",
   "execution_count": 281,
   "metadata": {},
   "outputs": [],
   "source": [
    "titles_people_profs_merge.to_csv('data/title_people_profs_merge.csv')"
   ]
  },
  {
   "cell_type": "code",
   "execution_count": 282,
   "metadata": {},
   "outputs": [],
   "source": [
    "tppm = titles_people_profs_merge.copy()"
   ]
  },
  {
   "cell_type": "code",
   "execution_count": null,
   "metadata": {},
   "outputs": [],
   "source": []
  }
 ],
 "metadata": {
  "kernelspec": {
   "display_name": "Python 3",
   "language": "python",
   "name": "python3"
  },
  "language_info": {
   "codemirror_mode": {
    "name": "ipython",
    "version": 3
   },
   "file_extension": ".py",
   "mimetype": "text/x-python",
   "name": "python",
   "nbconvert_exporter": "python",
   "pygments_lexer": "ipython3",
   "version": "3.6.8"
  }
 },
 "nbformat": 4,
 "nbformat_minor": 2
}
