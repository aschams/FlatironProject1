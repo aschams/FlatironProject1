{
 "cells": [
  {
   "cell_type": "markdown",
   "metadata": {},
   "source": [
    "## Import necessary modules"
   ]
  },
  {
   "cell_type": "code",
   "execution_count": 1,
   "metadata": {},
   "outputs": [],
   "source": [
    "import pandas as pd\n",
    "import numpy as np\n",
    "import matplotlib.pyplot as plt\n",
    "import seaborn as sns\n",
    "%matplotlib inline"
   ]
  },
  {
   "cell_type": "markdown",
   "metadata": {},
   "source": [
    "### Import the data"
   ]
  },
  {
   "cell_type": "code",
   "execution_count": 52,
   "metadata": {},
   "outputs": [],
   "source": [
    "bom = pd.read_csv(\"data/bom.movie_gross.csv.gz\")\n",
    "imdb_names = pd.read_csv(\"data/imdb.name.basics.csv.gz\")\n",
    "imdb_title_akas = pd.read_csv(\"data/imdb.title.akas.csv.gz\")\n",
    "imdb_title_basics = pd.read_csv(\"data/imdb.title.basics.csv.gz\")\n",
    "imdb_title_princ = pd.read_csv(\"data/imdb.title.principals.csv.gz\")\n",
    "imdb_title_ratings = pd.read_csv(\"data/imdb.title.ratings.csv.gz\")\n",
    "tmdb = pd.read_csv(\"data/tmdb.movies.csv.gz\")\n",
    "rt_movie_info = pd.read_csv('data/rt.movie_info.tsv.gz', sep='\\t')\n",
    "rt_reviews = pd.read_csv(\"data/rt.reviews.tsv.gz\", sep='\\t', encoding='latin-1')\n",
    "tn_movie_budgets = pd.read_csv(\"data/tn.movie_budgets.csv.gz\", sep=',')"
   ]
  },
  {
   "cell_type": "code",
   "execution_count": 41,
   "metadata": {},
   "outputs": [],
   "source": [
    "inner_bom_tmdb = bom.merge(tmdb, left_on='title', right_on='title')"
   ]
  },
  {
   "cell_type": "code",
   "execution_count": 45,
   "metadata": {},
   "outputs": [],
   "source": [
    "imdb_title_basics = pd.read_csv(\"data/imdb.title.basics.csv.gz\")"
   ]
  },
  {
   "cell_type": "code",
   "execution_count": 55,
   "metadata": {},
   "outputs": [
    {
     "data": {
      "text/html": [
       "<div>\n",
       "<style scoped>\n",
       "    .dataframe tbody tr th:only-of-type {\n",
       "        vertical-align: middle;\n",
       "    }\n",
       "\n",
       "    .dataframe tbody tr th {\n",
       "        vertical-align: top;\n",
       "    }\n",
       "\n",
       "    .dataframe thead th {\n",
       "        text-align: right;\n",
       "    }\n",
       "</style>\n",
       "<table border=\"1\" class=\"dataframe\">\n",
       "  <thead>\n",
       "    <tr style=\"text-align: right;\">\n",
       "      <th></th>\n",
       "      <th>nconst</th>\n",
       "      <th>primary_name</th>\n",
       "      <th>birth_year</th>\n",
       "      <th>death_year</th>\n",
       "      <th>primary_profession</th>\n",
       "      <th>known_for_titles</th>\n",
       "    </tr>\n",
       "  </thead>\n",
       "  <tbody>\n",
       "    <tr>\n",
       "      <th>24026</th>\n",
       "      <td>nm0000093</td>\n",
       "      <td>Brad Pitt</td>\n",
       "      <td>1963.0</td>\n",
       "      <td>NaN</td>\n",
       "      <td>actor,producer,soundtrack</td>\n",
       "      <td>tt1210166,tt0114746,tt0356910,tt0816711</td>\n",
       "    </tr>\n",
       "  </tbody>\n",
       "</table>\n",
       "</div>"
      ],
      "text/plain": [
       "          nconst primary_name  birth_year  death_year  \\\n",
       "24026  nm0000093    Brad Pitt      1963.0         NaN   \n",
       "\n",
       "              primary_profession                         known_for_titles  \n",
       "24026  actor,producer,soundtrack  tt1210166,tt0114746,tt0356910,tt0816711  "
      ]
     },
     "execution_count": 55,
     "metadata": {},
     "output_type": "execute_result"
    }
   ],
   "source": [
    "imdb_names[imdb_names['primary_name'] == 'Brad Pitt']"
   ]
  },
  {
   "cell_type": "code",
   "execution_count": null,
   "metadata": {},
   "outputs": [],
   "source": []
  }
 ],
 "metadata": {
  "kernelspec": {
   "display_name": "Python 3",
   "language": "python",
   "name": "python3"
  },
  "language_info": {
   "codemirror_mode": {
    "name": "ipython",
    "version": 3
   },
   "file_extension": ".py",
   "mimetype": "text/x-python",
   "name": "python",
   "nbconvert_exporter": "python",
   "pygments_lexer": "ipython3",
   "version": "3.6.8"
  }
 },
 "nbformat": 4,
 "nbformat_minor": 2
}
