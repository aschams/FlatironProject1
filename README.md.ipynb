{
 "cells": [
  {
   "cell_type": "markdown",
   "metadata": {},
   "source": [
    "<h1 style=\"color:blue;\"><center> Module One Project</center>\n",
    "\n",
    "  </h1>"
   ]
  },
  {
   "cell_type": "markdown",
   "metadata": {},
   "source": [
    "<h2 style=\"color:blue;\"> Descriptions of the repository</h2>\n",
    "  \n",
    "  "
   ]
  },
  {
   "cell_type": "markdown",
   "metadata": {},
   "source": [
    "## Data\n",
    "The data files can be found at \"https://github.com/learn-co-students/dc_ds_06_03_19/tree/master/module_1/week_3_project/data\"\n",
    "\n"
   ]
  },
  {
   "cell_type": "markdown",
   "metadata": {},
   "source": [
    "## Notebook and Function\n",
    "The technical notebook is called Technical_Notebook.ipynb and the function named 'as_function' are in the master branch.\n",
    "The file,\"as_function.py\", contains two main functions: OHE_genres, and plot_most_popular_people. The first function groupes the movies by genre and the second function provides plots of the most popular people."
   ]
  },
  {
   "cell_type": "markdown",
   "metadata": {},
   "source": [
    "## Purpose of our repository\n",
    "The purpose of this analysis is to better understand the movie industry. We are specially interested in looking at what movies or types of movies should be made by a new studio/company trying to get into the film industry. We are therefore looking at films from the past 9 years (2010-2018) with the hopes of indentifying key trend to allow a nascent production company become succesful.\n"
   ]
  },
  {
   "cell_type": "code",
   "execution_count": null,
   "metadata": {},
   "outputs": [],
   "source": []
  }
 ],
 "metadata": {
  "kernelspec": {
   "display_name": "learn-env",
   "language": "python",
   "name": "learn-env"
  },
  "language_info": {
   "codemirror_mode": {
    "name": "ipython",
    "version": 3
   },
   "file_extension": ".py",
   "mimetype": "text/x-python",
   "name": "python",
   "nbconvert_exporter": "python",
   "pygments_lexer": "ipython3",
   "version": "3.6.6"
  }
 },
 "nbformat": 4,
 "nbformat_minor": 2
}
