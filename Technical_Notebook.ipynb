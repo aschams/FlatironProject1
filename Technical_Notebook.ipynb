{
 "cells": [
  {
   "cell_type": "markdown",
   "metadata": {},
   "source": [
    "### Import Necessary Modules"
   ]
  },
  {
   "cell_type": "code",
   "execution_count": null,
   "metadata": {},
   "outputs": [],
   "source": [
    "import pandas as pd\n",
    "import numpy as np\n",
    "import matplotlib.pyplot as plt\n",
    "import seaborn as sns\n",
    "sns.set_context(\"talk\")\n",
    "import as_functions as asf\n",
    "%matplotlib inline\n",
    "sns.set_palette(sns.color_palette('muted'))\n",
    "sns.set_style(\"darkgrid\")"
   ]
  },
  {
   "cell_type": "markdown",
   "metadata": {},
   "source": [
    "### Import Datasets"
   ]
  },
  {
   "cell_type": "code",
   "execution_count": null,
   "metadata": {},
   "outputs": [],
   "source": [
    "bom = pd.read_csv(\"data/bom.movie_gross.csv.gz\")\n",
    "imdb_names = pd.read_csv(\"data/imdb.name.basics.csv.gz\")\n",
    "imdb_title_basics = pd.read_csv(\"data/imdb.title.basics.csv.gz\")\n",
    "imdb_title_ratings = pd.read_csv(\"data/imdb.title.ratings.csv.gz\")\n",
    "tmdb = pd.read_csv(\"data/tmdb.movies.csv.gz\")\n",
    "tn_movie_budgets = pd.read_csv(\"data/tn.movie_budgets.csv.gz\", sep=',')\n",
    "tppm = pd.read_csv('data/title_people_profs_merge.csv')"
   ]
  },
  {
   "cell_type": "markdown",
   "metadata": {},
   "source": [
    "## Cleaning Data"
   ]
  },
  {
   "cell_type": "code",
   "execution_count": null,
   "metadata": {},
   "outputs": [],
   "source": [
    "inner_bom_tmdb = bom.merge(tmdb, left_on='title', right_on='title')\n",
    "imdb_title_basics.set_index('tconst', inplace=True)\n",
    "imdb_movie_data = imdb_title_basics.merge(imdb_title_ratings, left_index=True, right_on='tconst')\n",
    "inner_bom_imdb = bom.merge(imdb_movie_data, left_on='title', right_on='primary_title')\n",
    "inner_bom_imdb.set_index('tconst', inplace=True)"
   ]
  },
  {
   "cell_type": "markdown",
   "metadata": {},
   "source": [
    "OHE_genres One-Hot Encodes the genre column. The genre column is first converted into a list of genres that \n",
    "describes a movie. We then stack this dataframe to join with the original dataframe. This leaves us with a \n",
    "series in which each row is a genre for a given movie. We turn this series into dummy variables with get_dummies\n",
    "and sum along the columns for each index to get a single row telling us which genres the movie belongs to. \n",
    "This genre series is then merged with the original dataset.  "
   ]
  },
  {
   "cell_type": "code",
   "execution_count": null,
   "metadata": {},
   "outputs": [],
   "source": [
    "inner_bom_imdb = asf.OHE_genres(inner_bom_imdb)"
   ]
  },
  {
   "cell_type": "markdown",
   "metadata": {},
   "source": [
    "### Fixing Movie Gross Problems"
   ]
  },
  {
   "cell_type": "markdown",
   "metadata": {},
   "source": [
    "When the foreign gross data was scraped, any amount over $1 billion was instead saved in millions, in a string.\n",
    "I had to manually go through and correct these values."
   ]
  },
  {
   "cell_type": "code",
   "execution_count": 34,
   "metadata": {},
   "outputs": [],
   "source": [
    "inner_bom_imdb.loc[inner_bom_imdb.foreign_gross == '1,019.4','foreign_gross'] = 1_019_440_000\n",
    "inner_bom_imdb.loc[inner_bom_imdb.foreign_gross == '1,010.0', 'foreign_gross'] = 1_010_000_000\n",
    "inner_bom_imdb.loc[inner_bom_imdb.foreign_gross == '1,369.5','foreign_gross'] = 1_369_500_000\n",
    "inner_bom_imdb.loc[inner_bom_imdb.foreign_gross == '1,163.0','foreign_gross'] = 1_163_000_000"
   ]
  },
  {
   "cell_type": "code",
   "execution_count": 50,
   "metadata": {},
   "outputs": [],
   "source": [
    "# Create a column for total gross for each movie\n",
    "inner_bom_imdb['total_gross'] = inner_bom_imdb['domestic_gross'] + inner_bom_imdb.foreign_gross.astype(float).fillna(0)\n",
    "\n"
   ]
  },
  {
   "cell_type": "markdown",
   "metadata": {},
   "source": [
    "Some movies in the budget dataset had no domestic/international release (Such as Netflix originals).\n",
    "We elect to remove these from the dataset because they contain no information on the profitability of a given \n",
    "movie."
   ]
  },
  {
   "cell_type": "code",
   "execution_count": null,
   "metadata": {},
   "outputs": [],
   "source": [
    "null_box_office = inner_bom_imdb[inner_bom_imdb.domestic_gross.isna()].index\n",
    "inner_bom_imdb = inner_bom_imdb.drop(null_box_office)"
   ]
  },
  {
   "cell_type": "markdown",
   "metadata": {},
   "source": [
    "### Making Each Movie in names a row"
   ]
  },
  {
   "cell_type": "code",
   "execution_count": 38,
   "metadata": {},
   "outputs": [],
   "source": [
    "names = imdb_names.copy()\n",
    "names2 = imdb_names.copy()"
   ]
  },
  {
   "cell_type": "markdown",
   "metadata": {},
   "source": [
    "In the next two cells, we perform a similar act to an actor's known films and professions as we did with movie genre. We will effectively melt the known films and professions into a column. Each of these cells will create a new dataframe in which each row corresponds to an actor's known movie or profession."
   ]
  },
  {
   "cell_type": "code",
   "execution_count": null,
   "metadata": {},
   "outputs": [],
   "source": [
    "names['kft'] = names.known_for_titles.str.split(',')\n",
    "s = names.apply(lambda x: pd.Series(x['kft']), axis=1).stack().reset_index(level=1, drop=True)\n",
    "s.name = \"Known_Movies\"\n",
    "names_movies = names.join(s).drop(['nconst', 'birth_year',\n",
    "                                           'death_year', \n",
    "                                           'known_for_titles', 'kft', 'primary_profession'], axis=1)"
   ]
  },
  {
   "cell_type": "code",
   "execution_count": null,
   "metadata": {},
   "outputs": [],
   "source": [
    "names2['profs'] = names2.primary_profession.str.split(',')\n",
    "s = names2.apply(lambda x: pd.Series(x['profs']), \n",
    "                                         axis=1).stack().reset_index(level=1, drop=True)\n",
    "s.name = 'Professions'\n",
    "names_profs = names2.join(s).copy()\n",
    "profs_dummies = pd.get_dummies(names_profs.Professions).sum(level=0)\n",
    "names_profs = names_profs.join(profs_dummies)\n",
    "names_profs.drop(['nconst', 'birth_year', 'death_year', 'known_for_titles',\n",
    "                      'primary_profession', 'Professions', 'profs'], axis=1, inplace=True)\n",
    "names_profs.drop_duplicates(inplace=True)"
   ]
  },
  {
   "cell_type": "markdown",
   "metadata": {},
   "source": [
    "### Merge People and Movies Dataframe"
   ]
  },
  {
   "cell_type": "markdown",
   "metadata": {},
   "source": [
    "We want to now merge our people and professions dataframe with the BoxOfficeMojo/IMDB dataframe."
   ]
  },
  {
   "cell_type": "code",
   "execution_count": null,
   "metadata": {},
   "outputs": [],
   "source": [
    "titles_people_merge = inner_bom_imdb.merge(names_movies, left_index=True, right_index=True)\n",
    "titles_people_profs_merge = titles_people_merge.merge(names_profs, left_on='primary_name', right_on='primary_name')"
   ]
  },
  {
   "cell_type": "markdown",
   "metadata": {},
   "source": [
    "## Exploring the Data"
   ]
  },
  {
   "cell_type": "markdown",
   "metadata": {},
   "source": [
    "Because our TPPM dataframe has a row for every actor, writer, producer, etc. in a movie, we want to drop duplicate rows that correspond to the same movie. We identify this according to title and start_year. We also are interested in only the first 35 columns, because the other columns correspond to roles of different people.\n",
    "\n",
    "We drop movie studio HC because they have one film, which happened to gross ~$870 million, which throws off some of our analysis.\n",
    "\n",
    "We also limit some of our analysis to only looking at the 200 top grossing movies from 2010-2018 because we are looking for trends in highly successful films."
   ]
  },
  {
   "cell_type": "code",
   "execution_count": null,
   "metadata": {},
   "outputs": [],
   "source": [
    "movies = tppm.drop_duplicates(subset=['title', 'start_year']).iloc[:, :34].copy()\n",
    "movies = movies.drop(movies[movies.studio == 'HC'].index)\n",
    "movies_sorted = movies.sort_values(by='total_gross', ascending=False)[:200]\n",
    "top_10_studios = movies.groupby('studio').sum()['total_gross'].sort_values(ascending=False)[:10]\n",
    "top_10_studios_mean = movies.groupby('studio').mean()['total_gross'].sort_values(ascending=False)[:10]"
   ]
  },
  {
   "cell_type": "code",
   "execution_count": null,
   "metadata": {},
   "outputs": [],
   "source": [
    "plt.figure(figsize=(10, 6))\n",
    "sns.barplot(x=top_10_studios.index, y=top_10_studios, color='b', alpha=0.5)\n",
    "plt.xlabel('Studio')\n",
    "plt.ylabel(\"Total Gross\")\n",
    "plt.title(\"Total Gross by Studio\")"
   ]
  },
  {
   "cell_type": "code",
   "execution_count": null,
   "metadata": {},
   "outputs": [],
   "source": [
    "plt.figure(figsize=(10, 6))\n",
    "sns.barplot(x=top_10_studios_mean.index, y=top_10_studios_mean, color='b', alpha=0.5)\n",
    "plt.xlabel(\"Studio\")\n",
    "plt.ylabel(\"Average Total Gross\")\n",
    "plt.title(\"Average Movie Gross by Studio\")"
   ]
  },
  {
   "cell_type": "code",
   "execution_count": null,
   "metadata": {},
   "outputs": [],
   "source": []
  },
  {
   "cell_type": "code",
   "execution_count": null,
   "metadata": {},
   "outputs": [],
   "source": [
    "movies_sorted.iloc[:,11:33].sum()"
   ]
  },
  {
   "cell_type": "code",
   "execution_count": null,
   "metadata": {},
   "outputs": [],
   "source": [
    "asf.plot_most_popular_people(tppm, 'writer', 'averagerating')"
   ]
  },
  {
   "cell_type": "code",
   "execution_count": null,
   "metadata": {},
   "outputs": [],
   "source": [
    "asf.plot_most_popular_people(tppm, 'actor', 'total_gross')"
   ]
  },
  {
   "cell_type": "markdown",
   "metadata": {},
   "source": [
    "The following cell is used to convert the movies genre column into something we can more easily groupby. Because films can have multiple genres, we cannot directly groupby on it. We therefore must do a similar thing to what we did before, where we create multiple rows for each movie, one row for each of its genres. We can then groupby on this column, and each movie will be counted in each of its respective genres. "
   ]
  },
  {
   "cell_type": "code",
   "execution_count": null,
   "metadata": {},
   "outputs": [],
   "source": [
    "movie_genres = movies_sorted.iloc[:,11:33].stack().reset_index(level=1)\n",
    "movie_genres.name = 'stacked_genres'\n",
    "movies_with_genres = movies_sorted.join(movie_genres)\n",
    "movies_with_genres = movies_with_genres[movies_with_genres[0] == 1]"
   ]
  },
  {
   "cell_type": "code",
   "execution_count": null,
   "metadata": {},
   "outputs": [],
   "source": [
    "top_grossing_genres = movies_with_genres.groupby('level_1')['total_gross'].sum().sort_values(ascending=False)\n",
    "plt.figure(figsize=(15,6))\n",
    "sns.barplot(x=top_grossing_genres.index, y=top_grossing_genres)\n",
    "plt.xticks(rotation=30)\n",
    "plt.xlabel('Genre')\n",
    "plt.ylabel('Total Gross(Domestic + Foreign)')\n",
    "plt.title('Total Gross by Genre')"
   ]
  },
  {
   "cell_type": "code",
   "execution_count": null,
   "metadata": {},
   "outputs": [],
   "source": [
    "movies_with_genres_aasca = movies_with_genres[movies_with_genres['level_1'].isin(['Adventure', \n",
    "                                                                                 'Action', \n",
    "                                                                                 'Sci-Fi',\n",
    "                                                                                 'Comedy',\n",
    "                                                                                 'Animation'])]"
   ]
  },
  {
   "cell_type": "code",
   "execution_count": null,
   "metadata": {},
   "outputs": [],
   "source": [
    "x = sns.violinplot(x='level_1', y='total_gross', data=movies_with_genres_aasca, dpi=1200)\n",
    "plt.xticks(rotation=90)\n",
    "plt.xlabel('Genre')\n",
    "plt.ylabel('Total Gross (Domestic+Foreign)')\n",
    "plt.title('Total Gross by Genre')"
   ]
  },
  {
   "cell_type": "code",
   "execution_count": null,
   "metadata": {},
   "outputs": [],
   "source": []
  },
  {
   "cell_type": "markdown",
   "metadata": {},
   "source": [
    "### Add budget data"
   ]
  },
  {
   "cell_type": "code",
   "execution_count": null,
   "metadata": {},
   "outputs": [],
   "source": [
    "tn2 = tn_movie_budgets.copy()\n",
    "tn2[['production_budget',\n",
    "     'domestic_gross',\n",
    "     'worldwide_gross']] = tn2[['production_budget',\n",
    "                                'domestic_gross',\n",
    "                                'worldwide_gross']].applymap(lambda x: x.replace(\"$\", '').replace(',', '')).astype(float)\n",
    "               \n",
    "tn2.drop(tn2[tn2.worldwide_gross == 0].index, inplace=True)\n",
    "tn2[['log_prod', 'log_wwg']] = tn2[['production_budget', 'worldwide_gross']].applymap(np.log10)\n",
    "tn2['gross_profit'] = tn2['worldwide_gross'] - tn2['production_budget']\n",
    "\n",
    "\n",
    "\n",
    "                                                                "
   ]
  },
  {
   "cell_type": "code",
   "execution_count": null,
   "metadata": {},
   "outputs": [],
   "source": [
    "h = sns.jointplot(x='production_budget',\n",
    "              y='gross_profit',\n",
    "              data=tn2,\n",
    "              height=10,\n",
    "              s=8)\n",
    "h.set_axis_labels(\"Production Budget\", \"Gross Profit\")\n",
    "h.ax_joint.plot([0,500_000_000], [0,0], ':k') "
   ]
  }
 ],
 "metadata": {
  "kernelspec": {
   "display_name": "Python 3",
   "language": "python",
   "name": "python3"
  },
  "language_info": {
   "codemirror_mode": {
    "name": "ipython",
    "version": 3
   },
   "file_extension": ".py",
   "mimetype": "text/x-python",
   "name": "python",
   "nbconvert_exporter": "python",
   "pygments_lexer": "ipython3",
   "version": "3.6.8"
  }
 },
 "nbformat": 4,
 "nbformat_minor": 2
}
